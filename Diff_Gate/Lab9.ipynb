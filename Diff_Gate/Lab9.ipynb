{
 "cells": [
  {
   "cell_type": "code",
   "execution_count": 1,
   "metadata": {},
   "outputs": [],
   "source": [
    "import numpy as np\n",
    "from tensorflow.keras.datasets.mnist import load_data as load_data_MNIST\n",
    "from einops import rearrange\n",
    "\n",
    "from network import Network"
   ]
  },
  {
   "cell_type": "code",
   "execution_count": 2,
   "metadata": {},
   "outputs": [],
   "source": [
    "(x_train, y_train), (x_test, y_test) = load_data_MNIST()\n",
    "\n",
    "x_train = rearrange(x_train, 'i h w -> i (h w)')\n",
    "x_test = rearrange(x_test, 'i h w -> i (h w)')\n",
    "\n",
    "features = x_test > 100\n",
    "outputs = (y_test == 5).reshape(-1, 1)"
   ]
  },
  {
   "cell_type": "code",
   "execution_count": 3,
   "metadata": {},
   "outputs": [
    {
     "name": "stderr",
     "output_type": "stream",
     "text": [
      "Epoch   1:   1%|          | 116/10000 [00:04<05:47, 28.47it/s]\n"
     ]
    },
    {
     "ename": "KeyboardInterrupt",
     "evalue": "",
     "output_type": "error",
     "traceback": [
      "\u001b[1;31m---------------------------------------------------------------------------\u001b[0m",
      "\u001b[1;31mKeyboardInterrupt\u001b[0m                         Traceback (most recent call last)",
      "Cell \u001b[1;32mIn[3], line 2\u001b[0m\n\u001b[0;32m      1\u001b[0m network \u001b[38;5;241m=\u001b[39m Network(\u001b[38;5;241m784\u001b[39m, [\u001b[38;5;241m40\u001b[39m, \u001b[38;5;241m50\u001b[39m, \u001b[38;5;241m50\u001b[39m, \u001b[38;5;241m40\u001b[39m, \u001b[38;5;241m1\u001b[39m], connections_rate\u001b[38;5;241m=\u001b[39m\u001b[38;5;241m5\u001b[39m)\n\u001b[1;32m----> 2\u001b[0m network\u001b[38;5;241m.\u001b[39mfit(features, outputs, epochs\u001b[38;5;241m=\u001b[39m\u001b[38;5;241m1\u001b[39m, learning_rate\u001b[38;5;241m=\u001b[39m\u001b[38;5;241m0.1\u001b[39m)\n\u001b[0;32m      3\u001b[0m loss, accuracy \u001b[38;5;241m=\u001b[39m network\u001b[38;5;241m.\u001b[39mevaluate_real(features, outputs)\n\u001b[0;32m      4\u001b[0m \u001b[38;5;28mprint\u001b[39m(\u001b[38;5;124mf\u001b[39m\u001b[38;5;124m'\u001b[39m\u001b[38;5;124mLoss: \u001b[39m\u001b[38;5;132;01m{\u001b[39;00mloss\u001b[38;5;132;01m:\u001b[39;00m\u001b[38;5;124m.3f\u001b[39m\u001b[38;5;132;01m}\u001b[39;00m\u001b[38;5;124m Accuracy: \u001b[39m\u001b[38;5;132;01m{\u001b[39;00maccuracy\u001b[38;5;132;01m:\u001b[39;00m\u001b[38;5;124m.3f\u001b[39m\u001b[38;5;132;01m}\u001b[39;00m\u001b[38;5;124m'\u001b[39m)\n",
      "File \u001b[1;32mc:\\Users\\Dominik\\Documents\\GitHub\\Fuzzy-SVM\\Diff_Gate\\network.py:16\u001b[0m, in \u001b[0;36mNetwork.fit\u001b[1;34m(self, inputs, outputs, epochs, learning_rate)\u001b[0m\n\u001b[0;32m     14\u001b[0m inputs, outputs \u001b[38;5;241m=\u001b[39m inputs\u001b[38;5;241m.\u001b[39mastype(np\u001b[38;5;241m.\u001b[39mfloat64), outputs\u001b[38;5;241m.\u001b[39mastype(np\u001b[38;5;241m.\u001b[39mfloat64)\n\u001b[0;32m     15\u001b[0m \u001b[38;5;28;01mfor\u001b[39;00m epoch_no \u001b[38;5;129;01min\u001b[39;00m \u001b[38;5;28mrange\u001b[39m(epochs):\n\u001b[1;32m---> 16\u001b[0m     \u001b[38;5;28mself\u001b[39m\u001b[38;5;241m.\u001b[39m__learn_epoch(inputs, outputs, learning_rate, epoch_no\u001b[38;5;241m+\u001b[39m\u001b[38;5;241m1\u001b[39m)\n",
      "File \u001b[1;32mc:\\Users\\Dominik\\Documents\\GitHub\\Fuzzy-SVM\\Diff_Gate\\network.py:56\u001b[0m, in \u001b[0;36mNetwork.__learn_epoch\u001b[1;34m(self, inputs, outputs, learning_rate, epoch_no)\u001b[0m\n\u001b[0;32m     54\u001b[0m iterator \u001b[38;5;241m=\u001b[39m tqdm(\u001b[38;5;28mzip\u001b[39m(shuffled_inputs, shuffled_outputs), total\u001b[38;5;241m=\u001b[39m\u001b[38;5;28mlen\u001b[39m(inputs), desc\u001b[38;5;241m=\u001b[39m\u001b[38;5;124mf\u001b[39m\u001b[38;5;124m'\u001b[39m\u001b[38;5;124mEpoch \u001b[39m\u001b[38;5;132;01m{\u001b[39;00mepoch_no\u001b[38;5;132;01m:\u001b[39;00m\u001b[38;5;124m3\u001b[39m\u001b[38;5;132;01m}\u001b[39;00m\u001b[38;5;124m'\u001b[39m)\n\u001b[0;32m     55\u001b[0m \u001b[38;5;28;01mfor\u001b[39;00m \u001b[38;5;28minput\u001b[39m, output \u001b[38;5;129;01min\u001b[39;00m iterator:\n\u001b[1;32m---> 56\u001b[0m     \u001b[38;5;28mself\u001b[39m\u001b[38;5;241m.\u001b[39m__learn_single(\u001b[38;5;28minput\u001b[39m, output, learning_rate)\n",
      "File \u001b[1;32mc:\\Users\\Dominik\\Documents\\GitHub\\Fuzzy-SVM\\Diff_Gate\\network.py:61\u001b[0m, in \u001b[0;36mNetwork.__learn_single\u001b[1;34m(self, input, output, learning_rate)\u001b[0m\n\u001b[0;32m     59\u001b[0m prediction \u001b[38;5;241m=\u001b[39m \u001b[38;5;28mself\u001b[39m\u001b[38;5;241m.\u001b[39m__propagate_real(\u001b[38;5;28minput\u001b[39m)\n\u001b[0;32m     60\u001b[0m gradients \u001b[38;5;241m=\u001b[39m \u001b[38;5;28mself\u001b[39m\u001b[38;5;241m.\u001b[39m__get_loss_deriv(prediction, output)\n\u001b[1;32m---> 61\u001b[0m \u001b[38;5;28mself\u001b[39m\u001b[38;5;241m.\u001b[39m__backpropagate(gradients, learning_rate)\n",
      "File \u001b[1;32mc:\\Users\\Dominik\\Documents\\GitHub\\Fuzzy-SVM\\Diff_Gate\\network.py:65\u001b[0m, in \u001b[0;36mNetwork.__backpropagate\u001b[1;34m(self, gradients, learning_rate)\u001b[0m\n\u001b[0;32m     63\u001b[0m \u001b[38;5;28;01mdef\u001b[39;00m \u001b[38;5;21m__backpropagate\u001b[39m(\u001b[38;5;28mself\u001b[39m, gradients, learning_rate):\n\u001b[0;32m     64\u001b[0m     \u001b[38;5;28;01mfor\u001b[39;00m layer \u001b[38;5;129;01min\u001b[39;00m \u001b[38;5;28mreversed\u001b[39m(\u001b[38;5;28mlist\u001b[39m(\u001b[38;5;28mself\u001b[39m\u001b[38;5;241m.\u001b[39mlayers)):\n\u001b[1;32m---> 65\u001b[0m         gradients \u001b[38;5;241m=\u001b[39m layer\u001b[38;5;241m.\u001b[39mbackpropagate(gradients, learning_rate)\n\u001b[0;32m     66\u001b[0m     \u001b[38;5;28;01mreturn\u001b[39;00m gradients\n",
      "File \u001b[1;32mc:\\Users\\Dominik\\Documents\\GitHub\\Fuzzy-SVM\\Diff_Gate\\layer.py:25\u001b[0m, in \u001b[0;36mLayer.backpropagate\u001b[1;34m(self, gradient, learning_rate)\u001b[0m\n\u001b[0;32m     23\u001b[0m next_gradients \u001b[38;5;241m=\u001b[39m np\u001b[38;5;241m.\u001b[39mzeros((\u001b[38;5;28mself\u001b[39m\u001b[38;5;241m.\u001b[39msize, \u001b[38;5;28mself\u001b[39m\u001b[38;5;241m.\u001b[39minput_size), dtype\u001b[38;5;241m=\u001b[39mnp\u001b[38;5;241m.\u001b[39mfloat64)\n\u001b[0;32m     24\u001b[0m \u001b[38;5;28;01mfor\u001b[39;00m i, (gate, gradient_elem) \u001b[38;5;129;01min\u001b[39;00m \u001b[38;5;28menumerate\u001b[39m(\u001b[38;5;28mzip\u001b[39m(\u001b[38;5;28mself\u001b[39m\u001b[38;5;241m.\u001b[39mgates, gradient)):\n\u001b[1;32m---> 25\u001b[0m     next_gradients[i, :] \u001b[38;5;241m=\u001b[39m gate\u001b[38;5;241m.\u001b[39mbackpropagate(gradient_elem, learning_rate)\n\u001b[0;32m     27\u001b[0m \u001b[38;5;28;01mreturn\u001b[39;00m np\u001b[38;5;241m.\u001b[39msum(next_gradients, axis\u001b[38;5;241m=\u001b[39m\u001b[38;5;241m0\u001b[39m)\n",
      "File \u001b[1;32mc:\\Users\\Dominik\\Documents\\GitHub\\Fuzzy-SVM\\Diff_Gate\\gate.py:37\u001b[0m, in \u001b[0;36mGate.backpropagate\u001b[1;34m(self, gradient, learning_rate)\u001b[0m\n\u001b[0;32m     36\u001b[0m \u001b[38;5;28;01mdef\u001b[39;00m \u001b[38;5;21mbackpropagate\u001b[39m(\u001b[38;5;28mself\u001b[39m, gradient, learning_rate):\n\u001b[1;32m---> 37\u001b[0m     next_gradient \u001b[38;5;241m=\u001b[39m \u001b[38;5;28mself\u001b[39m\u001b[38;5;241m.\u001b[39m__get_next_gradient(gradient)\n\u001b[0;32m     38\u001b[0m     \u001b[38;5;28mself\u001b[39m\u001b[38;5;241m.\u001b[39m__update_weights(gradient, learning_rate)\n\u001b[0;32m     39\u001b[0m     \u001b[38;5;28;01mreturn\u001b[39;00m next_gradient\n",
      "File \u001b[1;32mc:\\Users\\Dominik\\Documents\\GitHub\\Fuzzy-SVM\\Diff_Gate\\gate.py:42\u001b[0m, in \u001b[0;36mGate.__get_next_gradient\u001b[1;34m(self, gradient)\u001b[0m\n\u001b[0;32m     41\u001b[0m \u001b[38;5;28;01mdef\u001b[39;00m \u001b[38;5;21m__get_next_gradient\u001b[39m(\u001b[38;5;28mself\u001b[39m, gradient):\n\u001b[1;32m---> 42\u001b[0m     derivs \u001b[38;5;241m=\u001b[39m np\u001b[38;5;241m.\u001b[39mcolumn_stack([fun\u001b[38;5;241m.\u001b[39mderiv(\u001b[38;5;28mself\u001b[39m\u001b[38;5;241m.\u001b[39m__input) \u001b[38;5;28;01mfor\u001b[39;00m fun \u001b[38;5;129;01min\u001b[39;00m \u001b[38;5;28mself\u001b[39m\u001b[38;5;241m.\u001b[39mfuns])\n\u001b[0;32m     43\u001b[0m     derivs \u001b[38;5;241m=\u001b[39m derivs \u001b[38;5;241m*\u001b[39m \u001b[38;5;28mself\u001b[39m\u001b[38;5;241m.\u001b[39m__softmax(\u001b[38;5;28mself\u001b[39m\u001b[38;5;241m.\u001b[39mweights)\n\u001b[0;32m     44\u001b[0m     derivs \u001b[38;5;241m=\u001b[39m np\u001b[38;5;241m.\u001b[39msum(derivs, axis\u001b[38;5;241m=\u001b[39m\u001b[38;5;241m1\u001b[39m)\n",
      "File \u001b[1;32mc:\\Users\\Dominik\\Documents\\GitHub\\Fuzzy-SVM\\Diff_Gate\\gate.py:42\u001b[0m, in \u001b[0;36m<listcomp>\u001b[1;34m(.0)\u001b[0m\n\u001b[0;32m     41\u001b[0m \u001b[38;5;28;01mdef\u001b[39;00m \u001b[38;5;21m__get_next_gradient\u001b[39m(\u001b[38;5;28mself\u001b[39m, gradient):\n\u001b[1;32m---> 42\u001b[0m     derivs \u001b[38;5;241m=\u001b[39m np\u001b[38;5;241m.\u001b[39mcolumn_stack([fun\u001b[38;5;241m.\u001b[39mderiv(\u001b[38;5;28mself\u001b[39m\u001b[38;5;241m.\u001b[39m__input) \u001b[38;5;28;01mfor\u001b[39;00m fun \u001b[38;5;129;01min\u001b[39;00m \u001b[38;5;28mself\u001b[39m\u001b[38;5;241m.\u001b[39mfuns])\n\u001b[0;32m     43\u001b[0m     derivs \u001b[38;5;241m=\u001b[39m derivs \u001b[38;5;241m*\u001b[39m \u001b[38;5;28mself\u001b[39m\u001b[38;5;241m.\u001b[39m__softmax(\u001b[38;5;28mself\u001b[39m\u001b[38;5;241m.\u001b[39mweights)\n\u001b[0;32m     44\u001b[0m     derivs \u001b[38;5;241m=\u001b[39m np\u001b[38;5;241m.\u001b[39msum(derivs, axis\u001b[38;5;241m=\u001b[39m\u001b[38;5;241m1\u001b[39m)\n",
      "File \u001b[1;32mc:\\Users\\Dominik\\Documents\\GitHub\\Fuzzy-SVM\\Diff_Gate\\funs.py:34\u001b[0m, in \u001b[0;36mLogicFun.deriv\u001b[1;34m(self, inputs)\u001b[0m\n\u001b[0;32m     33\u001b[0m \u001b[38;5;28;01mdef\u001b[39;00m \u001b[38;5;21mderiv\u001b[39m(\u001b[38;5;28mself\u001b[39m, inputs):\n\u001b[1;32m---> 34\u001b[0m     value \u001b[38;5;241m=\u001b[39m \u001b[38;5;28mself\u001b[39m\u001b[38;5;241m.\u001b[39m_deriv(inputs)\n\u001b[0;32m     35\u001b[0m     \u001b[38;5;28;01mif\u001b[39;00m \u001b[38;5;28mself\u001b[39m\u001b[38;5;241m.\u001b[39mneg:\n\u001b[0;32m     36\u001b[0m         value \u001b[38;5;241m=\u001b[39m \u001b[38;5;241m-\u001b[39mvalue\n",
      "File \u001b[1;32mc:\\Users\\Dominik\\Documents\\GitHub\\Fuzzy-SVM\\Diff_Gate\\funs.py:72\u001b[0m, in \u001b[0;36mIdentityFun._deriv\u001b[1;34m(self, inputs)\u001b[0m\n\u001b[0;32m     71\u001b[0m \u001b[38;5;28;01mdef\u001b[39;00m \u001b[38;5;21m_deriv\u001b[39m(\u001b[38;5;28mself\u001b[39m, inputs):\n\u001b[1;32m---> 72\u001b[0m     deriv \u001b[38;5;241m=\u001b[39m np\u001b[38;5;241m.\u001b[39mzeros_like(inputs)\n\u001b[0;32m     73\u001b[0m     deriv[\u001b[38;5;28mself\u001b[39m\u001b[38;5;241m.\u001b[39midx0] \u001b[38;5;241m=\u001b[39m \u001b[38;5;241m1\u001b[39m\n\u001b[0;32m     74\u001b[0m     \u001b[38;5;28;01mreturn\u001b[39;00m deriv\n",
      "File \u001b[1;32mc:\\Users\\Dominik\\anaconda3\\envs\\cuda_env\\Lib\\site-packages\\numpy\\core\\numeric.py:132\u001b[0m, in \u001b[0;36mzeros_like\u001b[1;34m(a, dtype, order, subok, shape)\u001b[0m\n\u001b[0;32m    130\u001b[0m \u001b[38;5;66;03m# needed instead of a 0 to get same result as zeros for string dtypes\u001b[39;00m\n\u001b[0;32m    131\u001b[0m z \u001b[38;5;241m=\u001b[39m zeros(\u001b[38;5;241m1\u001b[39m, dtype\u001b[38;5;241m=\u001b[39mres\u001b[38;5;241m.\u001b[39mdtype)\n\u001b[1;32m--> 132\u001b[0m multiarray\u001b[38;5;241m.\u001b[39mcopyto(res, z, casting\u001b[38;5;241m=\u001b[39m\u001b[38;5;124m'\u001b[39m\u001b[38;5;124munsafe\u001b[39m\u001b[38;5;124m'\u001b[39m)\n\u001b[0;32m    133\u001b[0m \u001b[38;5;28;01mreturn\u001b[39;00m res\n",
      "\u001b[1;31mKeyboardInterrupt\u001b[0m: "
     ]
    }
   ],
   "source": [
    "network = Network(784, [40, 50, 50, 40, 1], connections_rate=5)\n",
    "network.fit(features, outputs, epochs=1, learning_rate=0.1)\n",
    "loss, accuracy = network.evaluate_real(features, outputs)\n",
    "print(f'Loss: {loss:.3f} Accuracy: {accuracy:.3f}')"
   ]
  }
 ],
 "metadata": {
  "kernelspec": {
   "display_name": "cuda_env",
   "language": "python",
   "name": "python3"
  },
  "language_info": {
   "codemirror_mode": {
    "name": "ipython",
    "version": 3
   },
   "file_extension": ".py",
   "mimetype": "text/x-python",
   "name": "python",
   "nbconvert_exporter": "python",
   "pygments_lexer": "ipython3",
   "version": "3.11.10"
  }
 },
 "nbformat": 4,
 "nbformat_minor": 2
}
